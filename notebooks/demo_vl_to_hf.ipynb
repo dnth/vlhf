{
 "cells": [
  {
   "cell_type": "code",
   "execution_count": 1,
   "metadata": {},
   "outputs": [],
   "source": [
    "from vlhf.hugging_face import HuggingFace\n",
    "from vlhf.visual_layer import VisualLayer"
   ]
  },
  {
   "cell_type": "code",
   "execution_count": 2,
   "metadata": {},
   "outputs": [],
   "source": [
    "import os\n",
    "from dotenv import load_dotenv\n",
    "\n",
    "# Authentication\n",
    "load_dotenv()\n",
    "\n",
    "HF_TOKEN = os.getenv(\"HF_TOKEN\")\n",
    "VL_USER_ID = os.getenv(\"VL_USER_ID\")\n",
    "VL_ENV = os.getenv(\"VL_ENV\")\n",
    "VL_PG_URI = os.getenv(\"VL_PG_URI\")"
   ]
  },
  {
   "cell_type": "code",
   "execution_count": 3,
   "metadata": {},
   "outputs": [
    {
     "name": "stderr",
     "output_type": "stream",
     "text": [
      "\u001b[32m2024-08-12 13:04:13.333\u001b[0m | \u001b[1mINFO    \u001b[0m | \u001b[36mvlhf.hugging_face\u001b[0m:\u001b[36m__init__\u001b[0m:\u001b[36m85\u001b[0m - \u001b[1mHugging Face session created\u001b[0m\n",
      "\u001b[32m2024-08-12 13:04:13.334\u001b[0m | \u001b[1mINFO    \u001b[0m | \u001b[36mvlhf.visual_layer\u001b[0m:\u001b[36m__init__\u001b[0m:\u001b[36m23\u001b[0m - \u001b[1mVisual Layer session created\u001b[0m\n"
     ]
    }
   ],
   "source": [
    "hf = HuggingFace(HF_TOKEN)\n",
    "vl = VisualLayer(VL_USER_ID, VL_ENV, VL_PG_URI)"
   ]
  },
  {
   "cell_type": "code",
   "execution_count": 4,
   "metadata": {},
   "outputs": [],
   "source": [
    "# dataset_id = \"f0eb6f74-5495-11ef-aab9-42e5998eb94f\" # german traffic sign dataset\n",
    "# hf_repo_id = \"dnth/german-traffic-sign-vl-enriched\"\n",
    "\n",
    "# dataset_id = \"c2c3b90a-4f39-11ef-8d8b-5e82a4538d0f\" # pokemon dataset\n",
    "# hf_repo_id = \"dnth/pokemon-vl-enriched\"\n",
    "\n",
    "# dataset_id = \"fdd713c0-554c-11ef-bd7b-dacb63a3a95e\" # pets enriched dataset\n",
    "# hf_repo_id = \"dnth/pets-vl-enriched\"\n",
    "\n",
    "dataset_id = \"273b1d8a-54c4-11ef-bd7b-dacb63a3a95e\" # valorant dataset\n",
    "hf_repo_id = \"dnth/valorant-vl-enriched\""
   ]
  },
  {
   "cell_type": "code",
   "execution_count": 5,
   "metadata": {},
   "outputs": [
    {
     "name": "stderr",
     "output_type": "stream",
     "text": [
      "\u001b[32m2024-08-12 13:04:13.444\u001b[0m | \u001b[1mINFO    \u001b[0m | \u001b[36mvlhf.visual_layer\u001b[0m:\u001b[36mget_dataset\u001b[0m:\u001b[36m85\u001b[0m - \u001b[1mFetching dataset: 273b1d8a-54c4-11ef-bd7b-dacb63a3a95e\u001b[0m\n",
      "\u001b[32m2024-08-12 13:04:18.437\u001b[0m | \u001b[1mINFO    \u001b[0m | \u001b[36mvlhf.visual_layer\u001b[0m:\u001b[36m_get_images\u001b[0m:\u001b[36m171\u001b[0m - \u001b[1mRetrieved and processed 9898 images\u001b[0m\n",
      "\u001b[32m2024-08-12 13:04:21.478\u001b[0m | \u001b[1mINFO    \u001b[0m | \u001b[36mvlhf.visual_layer\u001b[0m:\u001b[36m_get_image_labels\u001b[0m:\u001b[36m121\u001b[0m - \u001b[1mRetrieved 0 image labels\u001b[0m\n",
      "\u001b[32m2024-08-12 13:04:25.569\u001b[0m | \u001b[1mINFO    \u001b[0m | \u001b[36mvlhf.visual_layer\u001b[0m:\u001b[36m_get_object_labels\u001b[0m:\u001b[36m150\u001b[0m - \u001b[1mRetrieved 5731 object labels\u001b[0m\n",
      "\u001b[32m2024-08-12 13:04:29.393\u001b[0m | \u001b[1mINFO    \u001b[0m | \u001b[36mvlhf.visual_layer\u001b[0m:\u001b[36m_get_image_issues\u001b[0m:\u001b[36m183\u001b[0m - \u001b[1mRetrieved 2432 image issues\u001b[0m\n"
     ]
    },
    {
     "data": {
      "text/html": [
       "<div><style>\n",
       ".dataframe > thead > tr,\n",
       ".dataframe > tbody > tr {\n",
       "  text-align: right;\n",
       "  white-space: pre-wrap;\n",
       "}\n",
       "</style>\n",
       "<small>shape: (9_898, 4)</small><table border=\"1\" class=\"dataframe\"><thead><tr><th>image_uri</th><th>image_label</th><th>image_issues</th><th>object_labels</th></tr><tr><td>str</td><td>str</td><td>list[struct[4]]</td><td>list[struct[3]]</td></tr></thead><tbody><tr><td>&quot;https://d2iycf…</td><td>null</td><td>null</td><td>[{&quot;enemy&quot;,[147, 201, … 111],&quot;e396f278-aecb-4486-900e-d2444d80af09&quot;}]</td></tr><tr><td>&quot;https://d2iycf…</td><td>null</td><td>null</td><td>null</td></tr><tr><td>&quot;https://d2iycf…</td><td>null</td><td>null</td><td>[{&quot;teammate&quot;,[144, 149, … 31],&quot;6a6cde06-50d9-4788-8862-137255c057f9&quot;}]</td></tr><tr><td>&quot;https://d2iycf…</td><td>null</td><td>null</td><td>[{&quot;planted spike&quot;,[174, 149, … 53],&quot;e5661707-6a89-4263-8334-8a7a073e4046&quot;}]</td></tr><tr><td>&quot;https://d2iycf…</td><td>null</td><td>null</td><td>null</td></tr><tr><td>&quot;https://d2iycf…</td><td>null</td><td>null</td><td>[{&quot;enemy&quot;,[162, 196, … 99],&quot;cf613f81-6ef7-412f-8634-05e63aa76da4&quot;}]</td></tr><tr><td>&quot;https://d2iycf…</td><td>null</td><td>null</td><td>[{&quot;teammate&quot;,[207, 138, … 30],&quot;cd82023b-0532-46ed-b5c2-000a03b428bb&quot;}]</td></tr><tr><td>&quot;https://d2iycf…</td><td>null</td><td>null</td><td>[{&quot;teammate&quot;,[197, 219, … 28],&quot;fa1d6f32-bcb7-4707-b3fb-829bd1ae2551&quot;}]</td></tr><tr><td>&quot;https://d2iycf…</td><td>null</td><td>null</td><td>[{&quot;teammate&quot;,[188, 173, … 34],&quot;f96aad8b-525b-4349-98bd-45da500be538&quot;}]</td></tr><tr><td>&quot;https://d2iycf…</td><td>null</td><td>null</td><td>null</td></tr><tr><td>&quot;https://d2iycf…</td><td>null</td><td>null</td><td>[{&quot;enemy&quot;,[193, 176, … 64],&quot;99732a9c-b2d2-4537-964a-c1e0c56ab83a&quot;}]</td></tr><tr><td>&quot;https://d2iycf…</td><td>null</td><td>[{0.98,null,&quot;f215e2ea-e5ae-4d39-bac0-4c8055ccef33&quot;,&quot;duplicates&quot;}]</td><td>[{&quot;enemy&quot;,[200, 203, … 32],&quot;f4111185-d204-4b89-befd-e37d6ac09c92&quot;}]</td></tr><tr><td>&hellip;</td><td>&hellip;</td><td>&hellip;</td><td>&hellip;</td></tr><tr><td>&quot;https://d2iycf…</td><td>null</td><td>null</td><td>[{&quot;planted spike&quot;,[197, 149, … 38],&quot;6092afcf-0bb0-4fd0-8210-3f2cc206d153&quot;}]</td></tr><tr><td>&quot;https://d2iycf…</td><td>null</td><td>null</td><td>[{&quot;enemy&quot;,[185, 204, … 55],&quot;0f025d18-8ba1-4991-a6d9-d3f91b49e5de&quot;}]</td></tr><tr><td>&quot;https://d2iycf…</td><td>null</td><td>null</td><td>[{&quot;enemy&quot;,[211, 221, … 19],&quot;adae1831-c352-4e9b-b016-3186825b8902&quot;}]</td></tr><tr><td>&quot;https://d2iycf…</td><td>null</td><td>[{0.98,null,&quot;0a4a6af1-c8ef-4498-87ab-699969ebe9a6&quot;,&quot;duplicates&quot;}]</td><td>[{&quot;enemy&quot;,[223, 196, … 107],&quot;be922532-b051-4e23-9945-928b4b8470bb&quot;}]</td></tr><tr><td>&quot;https://d2iycf…</td><td>null</td><td>null</td><td>[{&quot;dropped spike&quot;,[189, 162, … 22],&quot;c10a4731-9ecf-44e2-afb0-d53bd6206b77&quot;}]</td></tr><tr><td>&quot;https://d2iycf…</td><td>null</td><td>null</td><td>null</td></tr><tr><td>&quot;https://d2iycf…</td><td>null</td><td>null</td><td>[{&quot;enemy&quot;,[204, 220, … 26],&quot;9b977289-c65d-43ff-a7d8-9ca4e0321a38&quot;}]</td></tr><tr><td>&quot;https://d2iycf…</td><td>null</td><td>null</td><td>[{&quot;enemy&quot;,[205, 149, … 68],&quot;11ec4481-ce3c-4a03-a7b7-88c3c7fbda78&quot;}, {&quot;planted spike&quot;,[219, 177, … 46],&quot;bc2c07f4-7423-4cd2-a252-b52b5d0ed8ff&quot;}]</td></tr><tr><td>&quot;https://d2iycf…</td><td>null</td><td>null</td><td>null</td></tr><tr><td>&quot;https://d2iycf…</td><td>null</td><td>[{0.80882,null,&quot;609ea952-1642-42f7-ac50-a841cc922f62&quot;,&quot;duplicates&quot;}]</td><td>null</td></tr><tr><td>&quot;https://d2iycf…</td><td>null</td><td>null</td><td>[{&quot;teammate&quot;,[165, 177, … 48],&quot;985873a9-4dac-4943-9914-c0ba2464ce56&quot;}]</td></tr><tr><td>&quot;https://d2iycf…</td><td>null</td><td>[{0.82862,null,&quot;821cb72f-2466-4b35-b721-1ec3a3f1a095&quot;,&quot;duplicates&quot;}]</td><td>null</td></tr></tbody></table></div>"
      ],
      "text/plain": [
       "shape: (9_898, 4)\n",
       "┌────────────────────────────┬─────────────┬───────────────────────────┬───────────────────────────┐\n",
       "│ image_uri                  ┆ image_label ┆ image_issues              ┆ object_labels             │\n",
       "│ ---                        ┆ ---         ┆ ---                       ┆ ---                       │\n",
       "│ str                        ┆ str         ┆ list[struct[4]]           ┆ list[struct[3]]           │\n",
       "╞════════════════════════════╪═════════════╪═══════════════════════════╪═══════════════════════════╡\n",
       "│ https://d2iycffepdu1yp.clo ┆ null        ┆ null                      ┆ [{\"enemy\",[147, 201, …    │\n",
       "│ udfron…                    ┆             ┆                           ┆ 111],\"e39…                │\n",
       "│ https://d2iycffepdu1yp.clo ┆ null        ┆ null                      ┆ null                      │\n",
       "│ udfron…                    ┆             ┆                           ┆                           │\n",
       "│ https://d2iycffepdu1yp.clo ┆ null        ┆ null                      ┆ [{\"teammate\",[144, 149, … │\n",
       "│ udfron…                    ┆             ┆                           ┆ 31],\"6…                   │\n",
       "│ https://d2iycffepdu1yp.clo ┆ null        ┆ null                      ┆ [{\"planted spike\",[174,   │\n",
       "│ udfron…                    ┆             ┆                           ┆ 149, … 5…                 │\n",
       "│ …                          ┆ …           ┆ …                         ┆ …                         │\n",
       "│ https://d2iycffepdu1yp.clo ┆ null        ┆ null                      ┆ null                      │\n",
       "│ udfron…                    ┆             ┆                           ┆                           │\n",
       "│ https://d2iycffepdu1yp.clo ┆ null        ┆ [{0.80882,null,\"609ea952- ┆ null                      │\n",
       "│ udfron…                    ┆             ┆ 1642-42…                  ┆                           │\n",
       "│ https://d2iycffepdu1yp.clo ┆ null        ┆ null                      ┆ [{\"teammate\",[165, 177, … │\n",
       "│ udfron…                    ┆             ┆                           ┆ 48],\"9…                   │\n",
       "│ https://d2iycffepdu1yp.clo ┆ null        ┆ [{0.82862,null,\"821cb72f- ┆ null                      │\n",
       "│ udfron…                    ┆             ┆ 2466-4b…                  ┆                           │\n",
       "└────────────────────────────┴─────────────┴───────────────────────────┴───────────────────────────┘"
      ]
     },
     "execution_count": 5,
     "metadata": {},
     "output_type": "execute_result"
    }
   ],
   "source": [
    "vl.get_dataset(dataset_id=dataset_id)"
   ]
  },
  {
   "cell_type": "code",
   "execution_count": 6,
   "metadata": {},
   "outputs": [
    {
     "data": {
      "application/vnd.jupyter.widget-view+json": {
       "model_id": "f8bb63969caf4459afbc2ac11d269ba8",
       "version_major": 2,
       "version_minor": 0
      },
      "text/plain": [
       "Casting the dataset:   0%|          | 0/9898 [00:00<?, ? examples/s]"
      ]
     },
     "metadata": {},
     "output_type": "display_data"
    },
    {
     "name": "stderr",
     "output_type": "stream",
     "text": [
      "\u001b[32m2024-08-12 13:04:32.599\u001b[0m | \u001b[1mINFO    \u001b[0m | \u001b[36mvlhf.visual_layer\u001b[0m:\u001b[36mto_hf\u001b[0m:\u001b[36m79\u001b[0m - \u001b[1mPushing dataset to HF repository: dnth/valorant-vl-enriched\u001b[0m\n"
     ]
    },
    {
     "data": {
      "application/vnd.jupyter.widget-view+json": {
       "model_id": "554a74318ad349e29d7fb96436f75440",
       "version_major": 2,
       "version_minor": 0
      },
      "text/plain": [
       "Uploading the dataset shards:   0%|          | 0/1 [00:00<?, ?it/s]"
      ]
     },
     "metadata": {},
     "output_type": "display_data"
    },
    {
     "data": {
      "application/vnd.jupyter.widget-view+json": {
       "model_id": "64c06be204d54773a942b780981f0dd8",
       "version_major": 2,
       "version_minor": 0
      },
      "text/plain": [
       "Creating parquet from Arrow format:   0%|          | 0/10 [00:00<?, ?ba/s]"
      ]
     },
     "metadata": {},
     "output_type": "display_data"
    },
    {
     "name": "stderr",
     "output_type": "stream",
     "text": [
      "No files have been modified since last commit. Skipping to prevent empty commit.\n"
     ]
    }
   ],
   "source": [
    "vl.to_hf(hf, hf_repo_id)"
   ]
  },
  {
   "cell_type": "code",
   "execution_count": null,
   "metadata": {},
   "outputs": [],
   "source": []
  }
 ],
 "metadata": {
  "kernelspec": {
   "display_name": "vl-hf-workflow",
   "language": "python",
   "name": "python3"
  },
  "language_info": {
   "codemirror_mode": {
    "name": "ipython",
    "version": 3
   },
   "file_extension": ".py",
   "mimetype": "text/x-python",
   "name": "python",
   "nbconvert_exporter": "python",
   "pygments_lexer": "ipython3",
   "version": "3.11.9"
  }
 },
 "nbformat": 4,
 "nbformat_minor": 2
}
