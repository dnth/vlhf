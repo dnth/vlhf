{
 "cells": [
  {
   "cell_type": "code",
   "execution_count": 1,
   "metadata": {},
   "outputs": [],
   "source": [
    "from vlhf.hugging_face import HuggingFace\n",
    "from vlhf.visual_layer import VisualLayer"
   ]
  },
  {
   "cell_type": "code",
   "execution_count": 2,
   "metadata": {},
   "outputs": [],
   "source": [
    "import os\n",
    "from dotenv import load_dotenv\n",
    "\n",
    "# Authentication\n",
    "load_dotenv()\n",
    "\n",
    "HF_TOKEN = os.getenv(\"HF_TOKEN\")\n",
    "VL_USER_ID = os.getenv(\"VL_USER_ID\")\n",
    "VL_ENV = os.getenv(\"VL_ENV\")\n",
    "VL_PG_URI = os.getenv(\"VL_PG_URI\")"
   ]
  },
  {
   "cell_type": "code",
   "execution_count": 3,
   "metadata": {},
   "outputs": [
    {
     "name": "stderr",
     "output_type": "stream",
     "text": [
      "\u001b[32m2024-08-12 13:14:48.037\u001b[0m | \u001b[1mINFO    \u001b[0m | \u001b[36mvlhf.hugging_face\u001b[0m:\u001b[36m__init__\u001b[0m:\u001b[36m85\u001b[0m - \u001b[1mHugging Face session created\u001b[0m\n",
      "\u001b[32m2024-08-12 13:14:48.038\u001b[0m | \u001b[1mINFO    \u001b[0m | \u001b[36mvlhf.visual_layer\u001b[0m:\u001b[36m__init__\u001b[0m:\u001b[36m23\u001b[0m - \u001b[1mVisual Layer session created\u001b[0m\n"
     ]
    }
   ],
   "source": [
    "hf = HuggingFace(HF_TOKEN)\n",
    "vl = VisualLayer(VL_USER_ID, VL_ENV, VL_PG_URI)"
   ]
  },
  {
   "cell_type": "code",
   "execution_count": 4,
   "metadata": {},
   "outputs": [],
   "source": [
    "# dataset_id = \"f0eb6f74-5495-11ef-aab9-42e5998eb94f\" # german traffic sign dataset\n",
    "# hf_repo_id = \"dnth/german-traffic-sign-vl-enriched\"\n",
    "\n",
    "# dataset_id = \"c2c3b90a-4f39-11ef-8d8b-5e82a4538d0f\" # pokemon dataset\n",
    "# hf_repo_id = \"dnth/pokemon-vl-enriched\"\n",
    "\n",
    "# dataset_id = \"fdd713c0-554c-11ef-bd7b-dacb63a3a95e\" # pets enriched dataset\n",
    "# hf_repo_id = \"dnth/pets-vl-enriched\"\n",
    "\n",
    "dataset_id = \"273b1d8a-54c4-11ef-bd7b-dacb63a3a95e\" # valorant dataset\n",
    "hf_repo_id = \"dnth/valorant-vl-enriched\""
   ]
  },
  {
   "cell_type": "code",
   "execution_count": 5,
   "metadata": {},
   "outputs": [
    {
     "name": "stderr",
     "output_type": "stream",
     "text": [
      "\u001b[32m2024-08-12 13:14:48.146\u001b[0m | \u001b[1mINFO    \u001b[0m | \u001b[36mvlhf.visual_layer\u001b[0m:\u001b[36mget_dataset\u001b[0m:\u001b[36m87\u001b[0m - \u001b[1mFetching dataset: 273b1d8a-54c4-11ef-bd7b-dacb63a3a95e\u001b[0m\n",
      "\u001b[32m2024-08-12 13:14:52.995\u001b[0m | \u001b[1mINFO    \u001b[0m | \u001b[36mvlhf.visual_layer\u001b[0m:\u001b[36m_get_images\u001b[0m:\u001b[36m173\u001b[0m - \u001b[1mRetrieved and processed 9898 images\u001b[0m\n",
      "\u001b[32m2024-08-12 13:14:56.216\u001b[0m | \u001b[1mINFO    \u001b[0m | \u001b[36mvlhf.visual_layer\u001b[0m:\u001b[36m_get_image_labels\u001b[0m:\u001b[36m123\u001b[0m - \u001b[1mRetrieved 0 image labels\u001b[0m\n",
      "\u001b[32m2024-08-12 13:15:00.314\u001b[0m | \u001b[1mINFO    \u001b[0m | \u001b[36mvlhf.visual_layer\u001b[0m:\u001b[36m_get_object_labels\u001b[0m:\u001b[36m152\u001b[0m - \u001b[1mRetrieved 5731 object labels\u001b[0m\n",
      "\u001b[32m2024-08-12 13:15:04.310\u001b[0m | \u001b[1mINFO    \u001b[0m | \u001b[36mvlhf.visual_layer\u001b[0m:\u001b[36m_get_image_issues\u001b[0m:\u001b[36m185\u001b[0m - \u001b[1mRetrieved 2432 image issues\u001b[0m\n"
     ]
    },
    {
     "data": {
      "text/html": [
       "<div>\n",
       "<style scoped>\n",
       "    .dataframe tbody tr th:only-of-type {\n",
       "        vertical-align: middle;\n",
       "    }\n",
       "\n",
       "    .dataframe tbody tr th {\n",
       "        vertical-align: top;\n",
       "    }\n",
       "\n",
       "    .dataframe thead th {\n",
       "        text-align: right;\n",
       "    }\n",
       "</style>\n",
       "<table border=\"1\" class=\"dataframe\">\n",
       "  <thead>\n",
       "    <tr style=\"text-align: right;\">\n",
       "      <th></th>\n",
       "      <th>image_uri</th>\n",
       "      <th>image_label</th>\n",
       "      <th>image_issues</th>\n",
       "      <th>object_labels</th>\n",
       "    </tr>\n",
       "  </thead>\n",
       "  <tbody>\n",
       "    <tr>\n",
       "      <th>0</th>\n",
       "      <td>https://d2iycffepdu1yp.cloudfront.net/273b1d8a...</td>\n",
       "      <td>None</td>\n",
       "      <td>None</td>\n",
       "      <td>[{'label': 'enemy', 'bbox': [147, 201, 33, 111...</td>\n",
       "    </tr>\n",
       "    <tr>\n",
       "      <th>1</th>\n",
       "      <td>https://d2iycffepdu1yp.cloudfront.net/273b1d8a...</td>\n",
       "      <td>None</td>\n",
       "      <td>None</td>\n",
       "      <td>None</td>\n",
       "    </tr>\n",
       "    <tr>\n",
       "      <th>2</th>\n",
       "      <td>https://d2iycffepdu1yp.cloudfront.net/273b1d8a...</td>\n",
       "      <td>None</td>\n",
       "      <td>None</td>\n",
       "      <td>[{'label': 'teammate', 'bbox': [144, 149, 11, ...</td>\n",
       "    </tr>\n",
       "    <tr>\n",
       "      <th>3</th>\n",
       "      <td>https://d2iycffepdu1yp.cloudfront.net/273b1d8a...</td>\n",
       "      <td>None</td>\n",
       "      <td>None</td>\n",
       "      <td>[{'label': 'planted spike', 'bbox': [174, 149,...</td>\n",
       "    </tr>\n",
       "    <tr>\n",
       "      <th>4</th>\n",
       "      <td>https://d2iycffepdu1yp.cloudfront.net/273b1d8a...</td>\n",
       "      <td>None</td>\n",
       "      <td>None</td>\n",
       "      <td>None</td>\n",
       "    </tr>\n",
       "    <tr>\n",
       "      <th>...</th>\n",
       "      <td>...</td>\n",
       "      <td>...</td>\n",
       "      <td>...</td>\n",
       "      <td>...</td>\n",
       "    </tr>\n",
       "    <tr>\n",
       "      <th>9893</th>\n",
       "      <td>https://d2iycffepdu1yp.cloudfront.net/273b1d8a...</td>\n",
       "      <td>None</td>\n",
       "      <td>None</td>\n",
       "      <td>[{'label': 'enemy', 'bbox': [205, 149, 16, 68]...</td>\n",
       "    </tr>\n",
       "    <tr>\n",
       "      <th>9894</th>\n",
       "      <td>https://d2iycffepdu1yp.cloudfront.net/273b1d8a...</td>\n",
       "      <td>None</td>\n",
       "      <td>None</td>\n",
       "      <td>None</td>\n",
       "    </tr>\n",
       "    <tr>\n",
       "      <th>9895</th>\n",
       "      <td>https://d2iycffepdu1yp.cloudfront.net/273b1d8a...</td>\n",
       "      <td>None</td>\n",
       "      <td>[{'confidence': 0.80882, 'description': None, ...</td>\n",
       "      <td>None</td>\n",
       "    </tr>\n",
       "    <tr>\n",
       "      <th>9896</th>\n",
       "      <td>https://d2iycffepdu1yp.cloudfront.net/273b1d8a...</td>\n",
       "      <td>None</td>\n",
       "      <td>None</td>\n",
       "      <td>[{'label': 'teammate', 'bbox': [165, 177, 19, ...</td>\n",
       "    </tr>\n",
       "    <tr>\n",
       "      <th>9897</th>\n",
       "      <td>https://d2iycffepdu1yp.cloudfront.net/273b1d8a...</td>\n",
       "      <td>None</td>\n",
       "      <td>[{'confidence': 0.82862, 'description': None, ...</td>\n",
       "      <td>None</td>\n",
       "    </tr>\n",
       "  </tbody>\n",
       "</table>\n",
       "<p>9898 rows × 4 columns</p>\n",
       "</div>"
      ],
      "text/plain": [
       "                                              image_uri image_label  \\\n",
       "0     https://d2iycffepdu1yp.cloudfront.net/273b1d8a...        None   \n",
       "1     https://d2iycffepdu1yp.cloudfront.net/273b1d8a...        None   \n",
       "2     https://d2iycffepdu1yp.cloudfront.net/273b1d8a...        None   \n",
       "3     https://d2iycffepdu1yp.cloudfront.net/273b1d8a...        None   \n",
       "4     https://d2iycffepdu1yp.cloudfront.net/273b1d8a...        None   \n",
       "...                                                 ...         ...   \n",
       "9893  https://d2iycffepdu1yp.cloudfront.net/273b1d8a...        None   \n",
       "9894  https://d2iycffepdu1yp.cloudfront.net/273b1d8a...        None   \n",
       "9895  https://d2iycffepdu1yp.cloudfront.net/273b1d8a...        None   \n",
       "9896  https://d2iycffepdu1yp.cloudfront.net/273b1d8a...        None   \n",
       "9897  https://d2iycffepdu1yp.cloudfront.net/273b1d8a...        None   \n",
       "\n",
       "                                           image_issues  \\\n",
       "0                                                  None   \n",
       "1                                                  None   \n",
       "2                                                  None   \n",
       "3                                                  None   \n",
       "4                                                  None   \n",
       "...                                                 ...   \n",
       "9893                                               None   \n",
       "9894                                               None   \n",
       "9895  [{'confidence': 0.80882, 'description': None, ...   \n",
       "9896                                               None   \n",
       "9897  [{'confidence': 0.82862, 'description': None, ...   \n",
       "\n",
       "                                          object_labels  \n",
       "0     [{'label': 'enemy', 'bbox': [147, 201, 33, 111...  \n",
       "1                                                  None  \n",
       "2     [{'label': 'teammate', 'bbox': [144, 149, 11, ...  \n",
       "3     [{'label': 'planted spike', 'bbox': [174, 149,...  \n",
       "4                                                  None  \n",
       "...                                                 ...  \n",
       "9893  [{'label': 'enemy', 'bbox': [205, 149, 16, 68]...  \n",
       "9894                                               None  \n",
       "9895                                               None  \n",
       "9896  [{'label': 'teammate', 'bbox': [165, 177, 19, ...  \n",
       "9897                                               None  \n",
       "\n",
       "[9898 rows x 4 columns]"
      ]
     },
     "execution_count": 5,
     "metadata": {},
     "output_type": "execute_result"
    }
   ],
   "source": [
    "vl.get_dataset(dataset_id=dataset_id)"
   ]
  },
  {
   "cell_type": "code",
   "execution_count": 6,
   "metadata": {},
   "outputs": [
    {
     "data": {
      "application/vnd.jupyter.widget-view+json": {
       "model_id": "887a4da7166747ad81eef10790fbe046",
       "version_major": 2,
       "version_minor": 0
      },
      "text/plain": [
       "Casting the dataset:   0%|          | 0/9898 [00:00<?, ? examples/s]"
      ]
     },
     "metadata": {},
     "output_type": "display_data"
    },
    {
     "name": "stderr",
     "output_type": "stream",
     "text": [
      "\u001b[32m2024-08-12 13:15:07.661\u001b[0m | \u001b[1mINFO    \u001b[0m | \u001b[36mvlhf.visual_layer\u001b[0m:\u001b[36mto_hf\u001b[0m:\u001b[36m81\u001b[0m - \u001b[1mPushing dataset to HF repository: dnth/valorant-vl-enriched\u001b[0m\n"
     ]
    },
    {
     "data": {
      "application/vnd.jupyter.widget-view+json": {
       "model_id": "bc8c72c8c77140f5a65e1edc395ec1b8",
       "version_major": 2,
       "version_minor": 0
      },
      "text/plain": [
       "Uploading the dataset shards:   0%|          | 0/1 [00:00<?, ?it/s]"
      ]
     },
     "metadata": {},
     "output_type": "display_data"
    },
    {
     "data": {
      "application/vnd.jupyter.widget-view+json": {
       "model_id": "d591a5ca0b2641a2807dbb5042726ea1",
       "version_major": 2,
       "version_minor": 0
      },
      "text/plain": [
       "Creating parquet from Arrow format:   0%|          | 0/10 [00:00<?, ?ba/s]"
      ]
     },
     "metadata": {},
     "output_type": "display_data"
    },
    {
     "name": "stderr",
     "output_type": "stream",
     "text": [
      "No files have been modified since last commit. Skipping to prevent empty commit.\n"
     ]
    }
   ],
   "source": [
    "vl.to_hf(hf, hf_repo_id)"
   ]
  },
  {
   "cell_type": "code",
   "execution_count": null,
   "metadata": {},
   "outputs": [],
   "source": []
  }
 ],
 "metadata": {
  "kernelspec": {
   "display_name": "vl-hf-workflow",
   "language": "python",
   "name": "python3"
  },
  "language_info": {
   "codemirror_mode": {
    "name": "ipython",
    "version": 3
   },
   "file_extension": ".py",
   "mimetype": "text/x-python",
   "name": "python",
   "nbconvert_exporter": "python",
   "pygments_lexer": "ipython3",
   "version": "3.11.9"
  }
 },
 "nbformat": 4,
 "nbformat_minor": 2
}
