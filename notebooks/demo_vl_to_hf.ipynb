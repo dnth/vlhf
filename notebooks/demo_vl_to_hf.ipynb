{
 "cells": [
  {
   "cell_type": "code",
   "execution_count": 1,
   "metadata": {},
   "outputs": [],
   "source": [
    "from vlhf.hugging_face import HuggingFace\n",
    "from vlhf.visual_layer import VisualLayer"
   ]
  },
  {
   "cell_type": "code",
   "execution_count": 2,
   "metadata": {},
   "outputs": [],
   "source": [
    "import os\n",
    "from dotenv import load_dotenv\n",
    "\n",
    "# Authentication\n",
    "load_dotenv()\n",
    "\n",
    "HF_TOKEN = os.getenv(\"HF_TOKEN\")\n",
    "VL_USER_ID = os.getenv(\"VL_USER_ID\")\n",
    "VL_ENV = os.getenv(\"VL_ENV\")\n",
    "VL_PG_URI = os.getenv(\"VL_PG_URI\")"
   ]
  },
  {
   "cell_type": "code",
   "execution_count": 3,
   "metadata": {},
   "outputs": [
    {
     "name": "stderr",
     "output_type": "stream",
     "text": [
      "\u001b[32m2024-08-12 13:04:13.333\u001b[0m | \u001b[1mINFO    \u001b[0m | \u001b[36mvlhf.hugging_face\u001b[0m:\u001b[36m__init__\u001b[0m:\u001b[36m85\u001b[0m - \u001b[1mHugging Face session created\u001b[0m\n",
      "\u001b[32m2024-08-12 13:04:13.334\u001b[0m | \u001b[1mINFO    \u001b[0m | \u001b[36mvlhf.visual_layer\u001b[0m:\u001b[36m__init__\u001b[0m:\u001b[36m23\u001b[0m - \u001b[1mVisual Layer session created\u001b[0m\n"
     ]
    }
   ],
   "source": [
    "hf = HuggingFace(HF_TOKEN)\n",
    "vl = VisualLayer(VL_USER_ID, VL_ENV, VL_PG_URI)"
   ]
  },
  {
   "cell_type": "code",
   "execution_count": 7,
   "metadata": {},
   "outputs": [],
   "source": [
    "# dataset_id = \"f0eb6f74-5495-11ef-aab9-42e5998eb94f\" # german traffic sign dataset\n",
    "# hf_repo_id = \"dnth/german-traffic-sign-vl-enriched\"\n",
    "\n",
    "# dataset_id = \"c2c3b90a-4f39-11ef-8d8b-5e82a4538d0f\" # pokemon dataset\n",
    "# hf_repo_id = \"dnth/pokemon-vl-enriched\"\n",
    "\n",
    "# dataset_id = \"fdd713c0-554c-11ef-bd7b-dacb63a3a95e\" # pets enriched dataset\n",
    "# hf_repo_id = \"dnth/pets-vl-enriched\"\n",
    "\n",
    "dataset_id = \"273b1d8a-54c4-11ef-bd7b-dacb63a3a95e\" # valorant dataset\n",
    "hf_repo_id = \"dnth/valorant-vl-enriched\""
   ]
  },
  {
   "cell_type": "code",
   "execution_count": 8,
   "metadata": {},
   "outputs": [
    {
     "name": "stderr",
     "output_type": "stream",
     "text": [
      "\u001b[32m2024-08-12 13:07:48.899\u001b[0m | \u001b[1mINFO    \u001b[0m | \u001b[36mvlhf.visual_layer\u001b[0m:\u001b[36mget_dataset\u001b[0m:\u001b[36m85\u001b[0m - \u001b[1mFetching dataset: 124aa35a-4fd3-11ef-ab8c-7e1db6b41710\u001b[0m\n",
      "\u001b[32m2024-08-12 13:07:53.150\u001b[0m | \u001b[1mINFO    \u001b[0m | \u001b[36mvlhf.visual_layer\u001b[0m:\u001b[36m_get_images\u001b[0m:\u001b[36m171\u001b[0m - \u001b[1mRetrieved and processed 3001 images\u001b[0m\n",
      "\u001b[32m2024-08-12 13:07:56.841\u001b[0m | \u001b[1mINFO    \u001b[0m | \u001b[36mvlhf.visual_layer\u001b[0m:\u001b[36m_get_image_labels\u001b[0m:\u001b[36m121\u001b[0m - \u001b[1mRetrieved 3000 image labels\u001b[0m\n",
      "\u001b[32m2024-08-12 13:07:59.899\u001b[0m | \u001b[1mINFO    \u001b[0m | \u001b[36mvlhf.visual_layer\u001b[0m:\u001b[36m_get_object_labels\u001b[0m:\u001b[36m150\u001b[0m - \u001b[1mRetrieved 0 object labels\u001b[0m\n",
      "\u001b[32m2024-08-12 13:08:03.044\u001b[0m | \u001b[1mINFO    \u001b[0m | \u001b[36mvlhf.visual_layer\u001b[0m:\u001b[36m_get_image_issues\u001b[0m:\u001b[36m183\u001b[0m - \u001b[1mRetrieved 102 image issues\u001b[0m\n"
     ]
    },
    {
     "data": {
      "text/html": [
       "<div><style>\n",
       ".dataframe > thead > tr,\n",
       ".dataframe > tbody > tr {\n",
       "  text-align: right;\n",
       "  white-space: pre-wrap;\n",
       "}\n",
       "</style>\n",
       "<small>shape: (3_001, 4)</small><table border=\"1\" class=\"dataframe\"><thead><tr><th>image_uri</th><th>image_label</th><th>image_issues</th><th>object_labels</th></tr><tr><td>str</td><td>str</td><td>list[struct[4]]</td><td>list[struct[3]]</td></tr></thead><tbody><tr><td>&quot;https://d2iycf…</td><td>&quot;dog&quot;</td><td>null</td><td>null</td></tr><tr><td>&quot;https://d2iycf…</td><td>&quot;dog&quot;</td><td>null</td><td>null</td></tr><tr><td>&quot;https://d2iycf…</td><td>&quot;muffin&quot;</td><td>null</td><td>null</td></tr><tr><td>&quot;https://d2iycf…</td><td>&quot;chicken&quot;</td><td>null</td><td>null</td></tr><tr><td>&quot;https://d2iycf…</td><td>&quot;dog&quot;</td><td>null</td><td>null</td></tr><tr><td>&quot;https://d2iycf…</td><td>&quot;muffin&quot;</td><td>null</td><td>null</td></tr><tr><td>&quot;https://d2iycf…</td><td>&quot;muffin&quot;</td><td>null</td><td>null</td></tr><tr><td>&quot;https://d2iycf…</td><td>&quot;dog&quot;</td><td>null</td><td>null</td></tr><tr><td>&quot;https://d2iycf…</td><td>&quot;dog&quot;</td><td>null</td><td>null</td></tr><tr><td>&quot;https://d2iycf…</td><td>&quot;chicken&quot;</td><td>[{0.8117045,null,&quot;e1a58bc2-7c2b-43dc-8e8a-15900e47b990&quot;,&quot;duplicates&quot;}]</td><td>null</td></tr><tr><td>&quot;https://d2iycf…</td><td>&quot;chicken&quot;</td><td>null</td><td>null</td></tr><tr><td>&quot;https://d2iycf…</td><td>&quot;dog&quot;</td><td>null</td><td>null</td></tr><tr><td>&hellip;</td><td>&hellip;</td><td>&hellip;</td><td>&hellip;</td></tr><tr><td>&quot;https://d2iycf…</td><td>&quot;dog&quot;</td><td>null</td><td>null</td></tr><tr><td>&quot;https://d2iycf…</td><td>&quot;chicken&quot;</td><td>null</td><td>null</td></tr><tr><td>&quot;https://d2iycf…</td><td>&quot;dog&quot;</td><td>null</td><td>null</td></tr><tr><td>&quot;https://d2iycf…</td><td>&quot;muffin&quot;</td><td>null</td><td>null</td></tr><tr><td>&quot;https://d2iycf…</td><td>&quot;chicken&quot;</td><td>null</td><td>null</td></tr><tr><td>&quot;https://d2iycf…</td><td>&quot;chicken&quot;</td><td>null</td><td>null</td></tr><tr><td>&quot;https://d2iycf…</td><td>&quot;muffin&quot;</td><td>null</td><td>null</td></tr><tr><td>&quot;https://d2iycf…</td><td>&quot;muffin&quot;</td><td>null</td><td>null</td></tr><tr><td>&quot;https://d2iycf…</td><td>&quot;muffin&quot;</td><td>null</td><td>null</td></tr><tr><td>&quot;https://d2iycf…</td><td>&quot;muffin&quot;</td><td>null</td><td>null</td></tr><tr><td>&quot;https://d2iycf…</td><td>&quot;chicken&quot;</td><td>null</td><td>null</td></tr><tr><td>&quot;https://d2iycf…</td><td>null</td><td>[{0.98,null,&quot;113f544b-5768-42a5-902a-dc8b4dee5a0d&quot;,&quot;duplicates&quot;}]</td><td>null</td></tr></tbody></table></div>"
      ],
      "text/plain": [
       "shape: (3_001, 4)\n",
       "┌─────────────────────────────────┬─────────────┬────────────────────────────────┬─────────────────┐\n",
       "│ image_uri                       ┆ image_label ┆ image_issues                   ┆ object_labels   │\n",
       "│ ---                             ┆ ---         ┆ ---                            ┆ ---             │\n",
       "│ str                             ┆ str         ┆ list[struct[4]]                ┆ list[struct[3]] │\n",
       "╞═════════════════════════════════╪═════════════╪════════════════════════════════╪═════════════════╡\n",
       "│ https://d2iycffepdu1yp.cloudfro ┆ dog         ┆ null                           ┆ null            │\n",
       "│ n…                              ┆             ┆                                ┆                 │\n",
       "│ https://d2iycffepdu1yp.cloudfro ┆ dog         ┆ null                           ┆ null            │\n",
       "│ n…                              ┆             ┆                                ┆                 │\n",
       "│ https://d2iycffepdu1yp.cloudfro ┆ muffin      ┆ null                           ┆ null            │\n",
       "│ n…                              ┆             ┆                                ┆                 │\n",
       "│ https://d2iycffepdu1yp.cloudfro ┆ chicken     ┆ null                           ┆ null            │\n",
       "│ n…                              ┆             ┆                                ┆                 │\n",
       "│ …                               ┆ …           ┆ …                              ┆ …               │\n",
       "│ https://d2iycffepdu1yp.cloudfro ┆ muffin      ┆ null                           ┆ null            │\n",
       "│ n…                              ┆             ┆                                ┆                 │\n",
       "│ https://d2iycffepdu1yp.cloudfro ┆ muffin      ┆ null                           ┆ null            │\n",
       "│ n…                              ┆             ┆                                ┆                 │\n",
       "│ https://d2iycffepdu1yp.cloudfro ┆ chicken     ┆ null                           ┆ null            │\n",
       "│ n…                              ┆             ┆                                ┆                 │\n",
       "│ https://d2iycffepdu1yp.cloudfro ┆ null        ┆ [{0.98,null,\"113f544b-5768-42a ┆ null            │\n",
       "│ n…                              ┆             ┆ 5-…                            ┆                 │\n",
       "└─────────────────────────────────┴─────────────┴────────────────────────────────┴─────────────────┘"
      ]
     },
     "execution_count": 8,
     "metadata": {},
     "output_type": "execute_result"
    }
   ],
   "source": [
    "vl.get_dataset(dataset_id=dataset_id)"
   ]
  },
  {
   "cell_type": "code",
   "execution_count": 6,
   "metadata": {},
   "outputs": [
    {
     "data": {
      "application/vnd.jupyter.widget-view+json": {
       "model_id": "f8bb63969caf4459afbc2ac11d269ba8",
       "version_major": 2,
       "version_minor": 0
      },
      "text/plain": [
       "Casting the dataset:   0%|          | 0/9898 [00:00<?, ? examples/s]"
      ]
     },
     "metadata": {},
     "output_type": "display_data"
    },
    {
     "name": "stderr",
     "output_type": "stream",
     "text": [
      "\u001b[32m2024-08-12 13:04:32.599\u001b[0m | \u001b[1mINFO    \u001b[0m | \u001b[36mvlhf.visual_layer\u001b[0m:\u001b[36mto_hf\u001b[0m:\u001b[36m79\u001b[0m - \u001b[1mPushing dataset to HF repository: dnth/valorant-vl-enriched\u001b[0m\n"
     ]
    },
    {
     "data": {
      "application/vnd.jupyter.widget-view+json": {
       "model_id": "554a74318ad349e29d7fb96436f75440",
       "version_major": 2,
       "version_minor": 0
      },
      "text/plain": [
       "Uploading the dataset shards:   0%|          | 0/1 [00:00<?, ?it/s]"
      ]
     },
     "metadata": {},
     "output_type": "display_data"
    },
    {
     "data": {
      "application/vnd.jupyter.widget-view+json": {
       "model_id": "64c06be204d54773a942b780981f0dd8",
       "version_major": 2,
       "version_minor": 0
      },
      "text/plain": [
       "Creating parquet from Arrow format:   0%|          | 0/10 [00:00<?, ?ba/s]"
      ]
     },
     "metadata": {},
     "output_type": "display_data"
    },
    {
     "name": "stderr",
     "output_type": "stream",
     "text": [
      "No files have been modified since last commit. Skipping to prevent empty commit.\n"
     ]
    }
   ],
   "source": [
    "vl.to_hf(hf, hf_repo_id)"
   ]
  },
  {
   "cell_type": "code",
   "execution_count": null,
   "metadata": {},
   "outputs": [],
   "source": []
  }
 ],
 "metadata": {
  "kernelspec": {
   "display_name": "vl-hf-workflow",
   "language": "python",
   "name": "python3"
  },
  "language_info": {
   "codemirror_mode": {
    "name": "ipython",
    "version": 3
   },
   "file_extension": ".py",
   "mimetype": "text/x-python",
   "name": "python",
   "nbconvert_exporter": "python",
   "pygments_lexer": "ipython3",
   "version": "3.11.9"
  }
 },
 "nbformat": 4,
 "nbformat_minor": 2
}
