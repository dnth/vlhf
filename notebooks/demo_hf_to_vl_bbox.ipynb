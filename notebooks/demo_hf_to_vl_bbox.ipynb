{
 "cells": [
  {
   "cell_type": "code",
   "execution_count": 1,
   "metadata": {},
   "outputs": [
    {
     "name": "stderr",
     "output_type": "stream",
     "text": [
      "\u001b[32m2024-08-08 22:47:11.956\u001b[0m | \u001b[1mINFO    \u001b[0m | \u001b[36mvlhf.hugging_face\u001b[0m:\u001b[36m__init__\u001b[0m:\u001b[36m84\u001b[0m - \u001b[1mHugging Face session created\u001b[0m\n",
      "\u001b[32m2024-08-08 22:47:11.956\u001b[0m | \u001b[1mINFO    \u001b[0m | \u001b[36mvlhf.visual_layer\u001b[0m:\u001b[36m__init__\u001b[0m:\u001b[36m23\u001b[0m - \u001b[1mVisual Layer session created\u001b[0m\n"
     ]
    }
   ],
   "source": [
    "from vlhf.hugging_face import HuggingFace\n",
    "from vlhf.visual_layer import VisualLayer\n",
    "\n",
    "import os\n",
    "from dotenv import load_dotenv\n",
    "\n",
    "# Authentication\n",
    "load_dotenv()\n",
    "\n",
    "HF_TOKEN = os.getenv(\"HF_TOKEN\")\n",
    "VL_USER_ID = os.getenv(\"VL_USER_ID\")\n",
    "VL_ENV = os.getenv(\"VL_ENV\")\n",
    "VL_PG_URI = os.getenv(\"VL_PG_URI\")\n",
    "\n",
    "hf = HuggingFace(HF_TOKEN)\n",
    "vl = VisualLayer(VL_USER_ID, VL_ENV, VL_PG_URI)"
   ]
  },
  {
   "cell_type": "code",
   "execution_count": 2,
   "metadata": {},
   "outputs": [
    {
     "name": "stderr",
     "output_type": "stream",
     "text": [
      "\u001b[32m2024-08-08 22:47:11.975\u001b[0m | \u001b[1mINFO    \u001b[0m | \u001b[36mvlhf.hugging_face\u001b[0m:\u001b[36mdownload_dataset\u001b[0m:\u001b[36m130\u001b[0m - \u001b[1mDownloading dataset detection-datasets/fashionpedia and saving to local path detection-datasets/fashionpedia\u001b[0m\n",
      "\u001b[32m2024-08-08 22:47:18.657\u001b[0m | \u001b[1mINFO    \u001b[0m | \u001b[36mvlhf.hugging_face\u001b[0m:\u001b[36mdownload_dataset\u001b[0m:\u001b[36m136\u001b[0m - \u001b[1mAdding image filename to dataset\u001b[0m\n",
      "\u001b[32m2024-08-08 22:47:18.663\u001b[0m | \u001b[1mINFO    \u001b[0m | \u001b[36mvlhf.hugging_face\u001b[0m:\u001b[36mdownload_dataset\u001b[0m:\u001b[36m141\u001b[0m - \u001b[1mAdding bbox label name to dataset\u001b[0m\n",
      "\u001b[32m2024-08-08 22:48:57.022\u001b[0m | \u001b[1mINFO    \u001b[0m | \u001b[36mvlhf.hugging_face\u001b[0m:\u001b[36mis_one_indexed\u001b[0m:\u001b[36m35\u001b[0m - \u001b[1mDataset appears to be 0-indexed\u001b[0m\n"
     ]
    },
    {
     "data": {
      "application/vnd.jupyter.widget-view+json": {
       "model_id": "293b801124ae42a8a0ce97fd275184c1",
       "version_major": 2,
       "version_minor": 0
      },
      "text/plain": [
       "Saving images:   0%|          | 0/46781 [00:00<?, ?it/s]"
      ]
     },
     "metadata": {},
     "output_type": "display_data"
    }
   ],
   "source": [
    "hf.download_dataset(\"detection-datasets/fashionpedia\", image_key=\"image\", bbox_key=\"objects\", \n",
    "                    bbox_label_names=['shirt, blouse', 'top, t-shirt, sweatshirt', 'sweater', 'cardigan', 'jacket', 'vest', 'pants', 'shorts', 'skirt', 'coat', 'dress', 'jumpsuit', 'cape', 'glasses', 'hat', 'headband, head covering, hair accessory', 'tie', 'glove', 'watch', 'belt', 'leg warmer', 'tights, stockings', 'sock', 'shoe', 'bag, wallet', 'scarf', 'umbrella', 'hood', 'collar', 'lapel', 'epaulette', 'sleeve', 'pocket', 'neckline', 'buckle', 'zipper', 'applique', 'bead', 'bow', 'flower', 'fringe', 'ribbon', 'rivet', 'ruffle', 'sequin', 'tassel'])"
   ]
  },
  {
   "cell_type": "code",
   "execution_count": null,
   "metadata": {},
   "outputs": [],
   "source": [
    "# hf.download_dataset(\"keremberke/german-traffic-sign-detection\", name=\"full\", image_key=\"image\", bbox_key=\"objects\", bbox_label_names=['animals', 'construction', 'cycles crossing', 'danger', 'no entry', 'pedestrian crossing', 'school crossing', 'snow', 'stop', 'bend', 'bend left', 'bend right', 'give way', 'go left', 'go left or straight', 'go right', 'go right or straight', 'go straight', 'keep left', 'keep right', 'no overtaking', 'no overtaking -trucks-', 'no traffic both ways', 'no trucks', 'priority at next intersection', 'priority road', 'restriction ends', 'restriction ends -overtaking -trucks--', 'restriction ends -overtaking-', 'restriction ends 80', 'road narrows', 'roundabout', 'slippery road', 'speed limit 100', 'speed limit 120', 'speed limit 20', 'speed limit 30', 'speed limit 50', 'speed limit 60', 'speed limit 70', 'speed limit 80', 'traffic signal', 'uneven road'])"
   ]
  },
  {
   "cell_type": "code",
   "execution_count": null,
   "metadata": {},
   "outputs": [],
   "source": [
    "# hf.download_dataset(\"keremberke/csgo-object-detection\", name=\"full\", \n",
    "#                     image_key=\"image\", \n",
    "#                     bbox_key=\"objects\", \n",
    "#                     bbox_label_names=['ct', 'cthead', 't', 'thead']\n",
    "# )"
   ]
  },
  {
   "cell_type": "code",
   "execution_count": null,
   "metadata": {},
   "outputs": [],
   "source": [
    "# hf.download_dataset(\"rishitdagli/cppe-5\", \n",
    "#                     image_key=\"image\", \n",
    "#                     bbox_key=\"objects\", \n",
    "#                     bbox_label_names=[\"coverall\", \"face_shield\", \"gloves\", \"goggles\", \"mask\"])"
   ]
  },
  {
   "cell_type": "code",
   "execution_count": null,
   "metadata": {},
   "outputs": [],
   "source": [
    "# hf.download_dataset(\"Francesco/weed-crop-aerial\", \n",
    "#                     image_key=\"image\", \n",
    "#                     bbox_key=\"objects\", \n",
    "#                     bbox_label_names=[\"crop\", \"weed\"]\n",
    "# )"
   ]
  },
  {
   "cell_type": "code",
   "execution_count": null,
   "metadata": {},
   "outputs": [],
   "source": [
    "# hf.download_dataset(\"Francesco/valentines-chocolate\", \n",
    "#                     image_key=\"image\", \n",
    "#                     bbox_key=\"objects\", \n",
    "#                     bbox_label_names= [\n",
    "#                         \"sees-dark-almond-nougat\",\n",
    "#                         \"sees-dark-almonds\",\n",
    "#                         \"sees-dark-bordeaux\",\n",
    "#                         \"sees-dark-caramel-patties\",\n",
    "#                         \"sees-dark-chocolate-buttercream\",\n",
    "#                         \"sees-dark-marzipan\",\n",
    "#                         \"sees-dark-normandie\",\n",
    "#                         \"sees-dark-scotchmallow\",\n",
    "#                         \"sees-dark-walnut-square\",\n",
    "#                         \"sees-milk-almond-caramel\",\n",
    "#                         \"sees-milk-almonds\",\n",
    "#                         \"sees-milk-beverly\",\n",
    "#                         \"sees-milk-bordeaux\",\n",
    "#                         \"sees-milk-butterscotch-square\",\n",
    "#                         \"sees-milk-california-brittle\",\n",
    "#                         \"sees-milk-chelsea\",\n",
    "#                         \"sees-milk-chocolate-buttercream\",\n",
    "#                         \"sees-milk-coconut-cream\",\n",
    "#                         \"sees-milk-mayfair\",\n",
    "#                         \"sees-milk-mocha\",\n",
    "#                         \"sees-milk-molasses-chips\",\n",
    "#                         \"sees-milk-rum-nougat\"]\n",
    "#                     )"
   ]
  },
  {
   "cell_type": "code",
   "execution_count": null,
   "metadata": {},
   "outputs": [],
   "source": [
    "# hf.download_dataset(\"Francesco/apples-fvpl5\", \n",
    "#                     image_key=\"image\", \n",
    "#                     bbox_key=\"objects\", \n",
    "#                     bbox_label_names=[\"apple\", \"damaged_apple\"]\n",
    "# )\n",
    "\n",
    "# hf.dataset[0]"
   ]
  },
  {
   "cell_type": "code",
   "execution_count": null,
   "metadata": {},
   "outputs": [],
   "source": [
    "# hf.download_dataset(\"keremberke/valorant-object-detection\", name=\"full\",\n",
    "#                     image_key=\"image\", \n",
    "#                     bbox_key=\"objects\", \n",
    "#                     bbox_label_names=['dropped spike', 'enemy', 'planted spike', 'teammate']\n",
    "# )"
   ]
  },
  {
   "cell_type": "code",
   "execution_count": null,
   "metadata": {},
   "outputs": [],
   "source": [
    "# hf.download_dataset(\"keremberke/license-plate-object-detection\", name=\"full\", image_key=\"image\", bbox_key=\"objects\", bbox_label_names=['license plate'])"
   ]
  },
  {
   "cell_type": "code",
   "execution_count": null,
   "metadata": {},
   "outputs": [],
   "source": [
    "hf.dataset[0]"
   ]
  },
  {
   "cell_type": "code",
   "execution_count": null,
   "metadata": {},
   "outputs": [],
   "source": [
    "hf.to_vl(vl_session=vl)"
   ]
  },
  {
   "cell_type": "code",
   "execution_count": null,
   "metadata": {},
   "outputs": [],
   "source": [
    "! tar -xvf /home/dnth/Desktop/vl-hf-workflow/notebooks/saved_images/keremberke/csgo-object-detection.tar -C /home/dnth/Desktop/vl-hf-workflow/notebooks/saved_images/keremberke"
   ]
  },
  {
   "cell_type": "code",
   "execution_count": null,
   "metadata": {},
   "outputs": [],
   "source": [
    "import pandas as pd\n",
    "\n",
    "df = pd.read_parquet(\"saved_images/Francesco/corrosion-bi3q3 (1)/object_annotations.parquet\")"
   ]
  },
  {
   "cell_type": "code",
   "execution_count": null,
   "metadata": {},
   "outputs": [],
   "source": [
    "df"
   ]
  },
  {
   "cell_type": "code",
   "execution_count": null,
   "metadata": {},
   "outputs": [],
   "source": [
    "# plot the bounding boxes from the dataframe\n",
    "from PIL import Image, ImageDraw\n",
    "import matplotlib.pyplot as plt\n",
    "\n",
    "def plot_bounding_boxes_from_df(df):\n",
    "    for filename, group in df.groupby('filename'):\n",
    "        image = Image.open(f\"saved_images/Francesco/corrosion-bi3q3 (1)/{filename}\")\n",
    "        draw = ImageDraw.Draw(image)\n",
    "        \n",
    "        for i, row in group.iterrows():\n",
    "            x, y, w, h = row['col_x'], row['row_y'], row['width'], row['height']\n",
    "            label = row['label']\n",
    "            draw.rectangle([x, y, x+w, y+h], outline=\"red\", width=3)\n",
    "            left, top, right, bottom = draw.textbbox((x, y-10), str(label))\n",
    "            draw.rectangle((left-5, top-5, right+5, bottom+5), fill=\"red\")\n",
    "            draw.text((x, y-10), str(label), fill=\"white\")\n",
    "\n",
    "        \n",
    "        plt.figure(figsize=(12, 8))\n",
    "        plt.imshow(image)\n",
    "        plt.axis('off')\n",
    "        plt.title(f\"Image: {filename}\")\n",
    "        plt.show()"
   ]
  },
  {
   "cell_type": "code",
   "execution_count": null,
   "metadata": {},
   "outputs": [],
   "source": [
    "plot_bounding_boxes_from_df(df.sample(5))"
   ]
  },
  {
   "cell_type": "code",
   "execution_count": null,
   "metadata": {},
   "outputs": [],
   "source": []
  }
 ],
 "metadata": {
  "kernelspec": {
   "display_name": "vl-hf-workflow",
   "language": "python",
   "name": "python3"
  },
  "language_info": {
   "codemirror_mode": {
    "name": "ipython",
    "version": 3
   },
   "file_extension": ".py",
   "mimetype": "text/x-python",
   "name": "python",
   "nbconvert_exporter": "python",
   "pygments_lexer": "ipython3",
   "version": "3.11.9"
  }
 },
 "nbformat": 4,
 "nbformat_minor": 2
}
