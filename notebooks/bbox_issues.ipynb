{
 "cells": [
  {
   "cell_type": "code",
   "execution_count": 1,
   "metadata": {},
   "outputs": [],
   "source": [
    "from vlhf.hugging_face import HuggingFace\n",
    "from vlhf.visual_layer import VisualLayer\n",
    "\n",
    "import os\n",
    "from dotenv import load_dotenv\n",
    "\n",
    "# Authentication\n",
    "load_dotenv()\n",
    "\n",
    "HF_TOKEN = os.getenv(\"HF_TOKEN\")\n",
    "VL_USER_ID = os.getenv(\"VL_USER_ID\")\n",
    "VL_ENV = os.getenv(\"VL_ENV\")\n",
    "VL_PG_URI = os.getenv(\"VL_PG_URI\")"
   ]
  },
  {
   "cell_type": "code",
   "execution_count": 2,
   "metadata": {},
   "outputs": [
    {
     "name": "stderr",
     "output_type": "stream",
     "text": [
      "\u001b[32m2024-08-12 14:00:06.718\u001b[0m | \u001b[1mINFO    \u001b[0m | \u001b[36mvlhf.hugging_face\u001b[0m:\u001b[36m__init__\u001b[0m:\u001b[36m85\u001b[0m - \u001b[1mHugging Face session created\u001b[0m\n",
      "\u001b[32m2024-08-12 14:00:06.719\u001b[0m | \u001b[1mINFO    \u001b[0m | \u001b[36mvlhf.visual_layer\u001b[0m:\u001b[36m__init__\u001b[0m:\u001b[36m23\u001b[0m - \u001b[1mVisual Layer session created\u001b[0m\n"
     ]
    }
   ],
   "source": [
    "hf = HuggingFace(HF_TOKEN)\n",
    "vl = VisualLayer(VL_USER_ID, VL_ENV, VL_PG_URI)"
   ]
  },
  {
   "cell_type": "code",
   "execution_count": 5,
   "metadata": {},
   "outputs": [
    {
     "name": "stderr",
     "output_type": "stream",
     "text": [
      "\u001b[32m2024-08-12 14:02:08.782\u001b[0m | \u001b[1mINFO    \u001b[0m | \u001b[36mvlhf.visual_layer\u001b[0m:\u001b[36mget_dataset\u001b[0m:\u001b[36m87\u001b[0m - \u001b[1mFetching dataset: 57261054-4f38-11ef-80bd-26d8f114f9b1\u001b[0m\n",
      "\u001b[32m2024-08-12 14:02:13.273\u001b[0m | \u001b[1mINFO    \u001b[0m | \u001b[36mvlhf.visual_layer\u001b[0m:\u001b[36m_get_images\u001b[0m:\u001b[36m173\u001b[0m - \u001b[1mRetrieved and processed 8189 images\u001b[0m\n",
      "\u001b[32m2024-08-12 14:02:17.118\u001b[0m | \u001b[1mINFO    \u001b[0m | \u001b[36mvlhf.visual_layer\u001b[0m:\u001b[36m_get_image_labels\u001b[0m:\u001b[36m123\u001b[0m - \u001b[1mRetrieved 8189 image labels\u001b[0m\n",
      "\u001b[32m2024-08-12 14:02:20.244\u001b[0m | \u001b[1mINFO    \u001b[0m | \u001b[36mvlhf.visual_layer\u001b[0m:\u001b[36m_get_object_labels\u001b[0m:\u001b[36m152\u001b[0m - \u001b[1mRetrieved 0 object labels\u001b[0m\n",
      "\u001b[32m2024-08-12 14:02:23.591\u001b[0m | \u001b[1mINFO    \u001b[0m | \u001b[36mvlhf.visual_layer\u001b[0m:\u001b[36m_get_image_issues\u001b[0m:\u001b[36m185\u001b[0m - \u001b[1mRetrieved 786 image issues\u001b[0m\n"
     ]
    },
    {
     "data": {
      "text/html": [
       "<div>\n",
       "<style scoped>\n",
       "    .dataframe tbody tr th:only-of-type {\n",
       "        vertical-align: middle;\n",
       "    }\n",
       "\n",
       "    .dataframe tbody tr th {\n",
       "        vertical-align: top;\n",
       "    }\n",
       "\n",
       "    .dataframe thead th {\n",
       "        text-align: right;\n",
       "    }\n",
       "</style>\n",
       "<table border=\"1\" class=\"dataframe\">\n",
       "  <thead>\n",
       "    <tr style=\"text-align: right;\">\n",
       "      <th></th>\n",
       "      <th>image_uri</th>\n",
       "      <th>image_label</th>\n",
       "      <th>image_issues</th>\n",
       "      <th>object_labels</th>\n",
       "    </tr>\n",
       "  </thead>\n",
       "  <tbody>\n",
       "    <tr>\n",
       "      <th>0</th>\n",
       "      <td>https://d2iycffepdu1yp.cloudfront.net/57261054...</td>\n",
       "      <td>9</td>\n",
       "      <td>None</td>\n",
       "      <td>None</td>\n",
       "    </tr>\n",
       "    <tr>\n",
       "      <th>1</th>\n",
       "      <td>https://d2iycffepdu1yp.cloudfront.net/57261054...</td>\n",
       "      <td>60</td>\n",
       "      <td>None</td>\n",
       "      <td>None</td>\n",
       "    </tr>\n",
       "    <tr>\n",
       "      <th>2</th>\n",
       "      <td>https://d2iycffepdu1yp.cloudfront.net/57261054...</td>\n",
       "      <td>23</td>\n",
       "      <td>None</td>\n",
       "      <td>None</td>\n",
       "    </tr>\n",
       "    <tr>\n",
       "      <th>3</th>\n",
       "      <td>https://d2iycffepdu1yp.cloudfront.net/57261054...</td>\n",
       "      <td>89</td>\n",
       "      <td>None</td>\n",
       "      <td>None</td>\n",
       "    </tr>\n",
       "    <tr>\n",
       "      <th>4</th>\n",
       "      <td>https://d2iycffepdu1yp.cloudfront.net/57261054...</td>\n",
       "      <td>59</td>\n",
       "      <td>None</td>\n",
       "      <td>None</td>\n",
       "    </tr>\n",
       "    <tr>\n",
       "      <th>...</th>\n",
       "      <td>...</td>\n",
       "      <td>...</td>\n",
       "      <td>...</td>\n",
       "      <td>...</td>\n",
       "    </tr>\n",
       "    <tr>\n",
       "      <th>8184</th>\n",
       "      <td>https://d2iycffepdu1yp.cloudfront.net/57261054...</td>\n",
       "      <td>72</td>\n",
       "      <td>[{'confidence': 0.889127, 'description': None,...</td>\n",
       "      <td>None</td>\n",
       "    </tr>\n",
       "    <tr>\n",
       "      <th>8185</th>\n",
       "      <td>https://d2iycffepdu1yp.cloudfront.net/57261054...</td>\n",
       "      <td>58</td>\n",
       "      <td>None</td>\n",
       "      <td>None</td>\n",
       "    </tr>\n",
       "    <tr>\n",
       "      <th>8186</th>\n",
       "      <td>https://d2iycffepdu1yp.cloudfront.net/57261054...</td>\n",
       "      <td>18</td>\n",
       "      <td>None</td>\n",
       "      <td>None</td>\n",
       "    </tr>\n",
       "    <tr>\n",
       "      <th>8187</th>\n",
       "      <td>https://d2iycffepdu1yp.cloudfront.net/57261054...</td>\n",
       "      <td>8</td>\n",
       "      <td>None</td>\n",
       "      <td>None</td>\n",
       "    </tr>\n",
       "    <tr>\n",
       "      <th>8188</th>\n",
       "      <td>https://d2iycffepdu1yp.cloudfront.net/57261054...</td>\n",
       "      <td>66</td>\n",
       "      <td>[{'confidence': 0.8265275, 'description': None...</td>\n",
       "      <td>None</td>\n",
       "    </tr>\n",
       "  </tbody>\n",
       "</table>\n",
       "<p>8189 rows × 4 columns</p>\n",
       "</div>"
      ],
      "text/plain": [
       "                                              image_uri image_label  \\\n",
       "0     https://d2iycffepdu1yp.cloudfront.net/57261054...           9   \n",
       "1     https://d2iycffepdu1yp.cloudfront.net/57261054...          60   \n",
       "2     https://d2iycffepdu1yp.cloudfront.net/57261054...          23   \n",
       "3     https://d2iycffepdu1yp.cloudfront.net/57261054...          89   \n",
       "4     https://d2iycffepdu1yp.cloudfront.net/57261054...          59   \n",
       "...                                                 ...         ...   \n",
       "8184  https://d2iycffepdu1yp.cloudfront.net/57261054...          72   \n",
       "8185  https://d2iycffepdu1yp.cloudfront.net/57261054...          58   \n",
       "8186  https://d2iycffepdu1yp.cloudfront.net/57261054...          18   \n",
       "8187  https://d2iycffepdu1yp.cloudfront.net/57261054...           8   \n",
       "8188  https://d2iycffepdu1yp.cloudfront.net/57261054...          66   \n",
       "\n",
       "                                           image_issues object_labels  \n",
       "0                                                  None          None  \n",
       "1                                                  None          None  \n",
       "2                                                  None          None  \n",
       "3                                                  None          None  \n",
       "4                                                  None          None  \n",
       "...                                                 ...           ...  \n",
       "8184  [{'confidence': 0.889127, 'description': None,...          None  \n",
       "8185                                               None          None  \n",
       "8186                                               None          None  \n",
       "8187                                               None          None  \n",
       "8188  [{'confidence': 0.8265275, 'description': None...          None  \n",
       "\n",
       "[8189 rows x 4 columns]"
      ]
     },
     "execution_count": 5,
     "metadata": {},
     "output_type": "execute_result"
    }
   ],
   "source": [
    "vl.get_dataset(\"57261054-4f38-11ef-80bd-26d8f114f9b1\")"
   ]
  },
  {
   "cell_type": "code",
   "execution_count": null,
   "metadata": {},
   "outputs": [],
   "source": []
  }
 ],
 "metadata": {
  "kernelspec": {
   "display_name": "vl-hf-workflow",
   "language": "python",
   "name": "python3"
  },
  "language_info": {
   "codemirror_mode": {
    "name": "ipython",
    "version": 3
   },
   "file_extension": ".py",
   "mimetype": "text/x-python",
   "name": "python",
   "nbconvert_exporter": "python",
   "pygments_lexer": "ipython3",
   "version": "3.11.9"
  }
 },
 "nbformat": 4,
 "nbformat_minor": 2
}
