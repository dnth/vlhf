{
 "cells": [
  {
   "cell_type": "code",
   "execution_count": 1,
   "metadata": {},
   "outputs": [],
   "source": [
    "from vlhf.hugging_face import HuggingFace\n",
    "from vlhf.visual_layer import VisualLayer\n",
    "\n",
    "import os\n",
    "from dotenv import load_dotenv\n",
    "\n",
    "# Authentication\n",
    "load_dotenv()\n",
    "\n",
    "HF_TOKEN = os.getenv(\"HF_TOKEN\")\n",
    "VL_USER_ID = os.getenv(\"VL_USER_ID\")\n",
    "VL_ENV = os.getenv(\"VL_ENV\")\n",
    "VL_PG_URI = os.getenv(\"VL_PG_URI\")"
   ]
  },
  {
   "cell_type": "code",
   "execution_count": 2,
   "metadata": {},
   "outputs": [
    {
     "name": "stderr",
     "output_type": "stream",
     "text": [
      "\u001b[32m2024-08-14 16:10:09.856\u001b[0m | \u001b[1mINFO    \u001b[0m | \u001b[36mvlhf.hugging_face\u001b[0m:\u001b[36m__init__\u001b[0m:\u001b[36m87\u001b[0m - \u001b[1mHugging Face session created\u001b[0m\n",
      "\u001b[32m2024-08-14 16:10:09.857\u001b[0m | \u001b[1mINFO    \u001b[0m | \u001b[36mvlhf.visual_layer\u001b[0m:\u001b[36m__init__\u001b[0m:\u001b[36m23\u001b[0m - \u001b[1mVisual Layer session created\u001b[0m\n"
     ]
    }
   ],
   "source": [
    "hf = HuggingFace(HF_TOKEN)\n",
    "vl = VisualLayer(VL_USER_ID, VL_ENV, VL_PG_URI)"
   ]
  },
  {
   "cell_type": "code",
   "execution_count": 3,
   "metadata": {},
   "outputs": [
    {
     "name": "stderr",
     "output_type": "stream",
     "text": [
      "\u001b[32m2024-08-14 16:10:10.347\u001b[0m | \u001b[1mINFO    \u001b[0m | \u001b[36mvlhf.visual_layer\u001b[0m:\u001b[36mget_dataset\u001b[0m:\u001b[36m87\u001b[0m - \u001b[1mFetching dataset: fdd713c0-554c-11ef-bd7b-dacb63a3a95e\u001b[0m\n",
      "\u001b[32m2024-08-14 16:10:14.775\u001b[0m | \u001b[1mINFO    \u001b[0m | \u001b[36mvlhf.visual_layer\u001b[0m:\u001b[36m_get_images\u001b[0m:\u001b[36m177\u001b[0m - \u001b[1mRetrieved and processed 7384 images\u001b[0m\n",
      "\u001b[32m2024-08-14 16:10:18.899\u001b[0m | \u001b[1mINFO    \u001b[0m | \u001b[36mvlhf.visual_layer\u001b[0m:\u001b[36m_get_image_labels\u001b[0m:\u001b[36m127\u001b[0m - \u001b[1mRetrieved 7349 image labels\u001b[0m\n",
      "\u001b[32m2024-08-14 16:10:23.548\u001b[0m | \u001b[1mINFO    \u001b[0m | \u001b[36mvlhf.visual_layer\u001b[0m:\u001b[36m_get_object_labels\u001b[0m:\u001b[36m156\u001b[0m - \u001b[1mRetrieved 7349 object labels\u001b[0m\n",
      "\u001b[32m2024-08-14 16:10:30.880\u001b[0m | \u001b[1mINFO    \u001b[0m | \u001b[36mvlhf.visual_layer\u001b[0m:\u001b[36m_get_image_issues\u001b[0m:\u001b[36m203\u001b[0m - \u001b[1mRetrieved 248 images with image-level issues\u001b[0m\n",
      "\u001b[32m2024-08-14 16:10:37.709\u001b[0m | \u001b[1mINFO    \u001b[0m | \u001b[36mvlhf.visual_layer\u001b[0m:\u001b[36m_get_object_issues\u001b[0m:\u001b[36m231\u001b[0m - \u001b[1mRetrieved 672 images with object-level issues\u001b[0m\n"
     ]
    },
    {
     "data": {
      "text/html": [
       "<div><style>\n",
       ".dataframe > thead > tr,\n",
       ".dataframe > tbody > tr {\n",
       "  text-align: right;\n",
       "  white-space: pre-wrap;\n",
       "}\n",
       "</style>\n",
       "<small>shape: (7_384, 5)</small><table border=\"1\" class=\"dataframe\"><thead><tr><th>image_uri</th><th>image_label</th><th>image_issues</th><th>object_labels</th><th>object_issues</th></tr><tr><td>str</td><td>str</td><td>list[struct[4]]</td><td>list[struct[3]]</td><td>list[struct[5]]</td></tr></thead><tbody><tr><td>&quot;https://d2iycf…</td><td>&quot;cat&quot;</td><td>null</td><td>[{&quot;cat&quot;,[0, 16, … 359],&quot;2fc62a2d-b0f4-450c-b991-8c47abf5a060&quot;}]</td><td>null</td></tr><tr><td>&quot;https://d2iycf…</td><td>&quot;dog&quot;</td><td>null</td><td>[{&quot;dog&quot;,[19, 16, … 359],&quot;15951aae-5ade-4ca0-9580-060c8af6c793&quot;}]</td><td>null</td></tr><tr><td>&quot;https://d2iycf…</td><td>&quot;dog&quot;</td><td>null</td><td>[{&quot;strap&quot;,[133, 202, … 167],&quot;36d02134-760f-485c-aa8d-0bf0711d5fd2&quot;}, {&quot;dog&quot;,[69, 110, … 198],&quot;d252a2ac-b763-4591-aded-e166c5f358f2&quot;}, {&quot;strap&quot;,[201, 68, … 302],&quot;66c1e17b-6a59-489b-b332-93a17a5826d3&quot;}]</td><td>null</td></tr><tr><td>&quot;https://d2iycf…</td><td>&quot;cat&quot;</td><td>null</td><td>[{&quot;dog&quot;,[48, 43, … 337],&quot;4ebd514e-15ec-4260-99eb-e5d27f37f766&quot;}, {&quot;person&quot;,[125, 235, … 265],&quot;dc287ba6-564c-4479-aa53-6283b0ad1398&quot;}]</td><td>null</td></tr><tr><td>&quot;https://d2iycf…</td><td>&quot;dog&quot;</td><td>null</td><td>[{&quot;dog&quot;,[0, 4, … 267],&quot;99611edc-48c7-40e6-a0d3-baaeb029177e&quot;}]</td><td>null</td></tr><tr><td>&quot;https://d2iycf…</td><td>&quot;cat&quot;</td><td>null</td><td>[{&quot;cat&quot;,[1, 0, … 300],&quot;8166c1d3-3017-401e-87f9-37f9a042cf1b&quot;}, {&quot;tag&quot;,[1, 216, … 61],&quot;3c0cccba-2a34-4e33-8bea-fee10b6b2c9e&quot;}]</td><td>null</td></tr><tr><td>&quot;https://d2iycf…</td><td>&quot;cat&quot;</td><td>null</td><td>[{&quot;cat&quot;,[0, 20, … 357],&quot;fc7f5068-cde0-49c0-9f13-748a74522f04&quot;}, {&quot;blanket&quot;,[0, 333, … 60],&quot;af62df85-97ad-45a3-b28e-49f52b439e25&quot;}]</td><td>null</td></tr><tr><td>&quot;https://d2iycf…</td><td>&quot;dog&quot;</td><td>null</td><td>[{&quot;dog&quot;,[159, 74, … 266],&quot;d85b02b0-c301-4f86-b8d2-3bd2f10311ec&quot;}]</td><td>null</td></tr><tr><td>&quot;https://d2iycf…</td><td>&quot;cat&quot;</td><td>null</td><td>[{&quot;cat&quot;,[0, 5, … 251],&quot;2904ceae-ca1c-4e59-8982-dcf461f42717&quot;}]</td><td>null</td></tr><tr><td>&quot;https://d2iycf…</td><td>&quot;cat&quot;</td><td>null</td><td>[{&quot;cat&quot;,[1, 19, … 481],&quot;cc4b2f93-5533-4748-91e8-6c664c268395&quot;}]</td><td>null</td></tr><tr><td>&quot;https://d2iycf…</td><td>&quot;dog&quot;</td><td>null</td><td>[{&quot;bear&quot;,[82, 96, … 398],&quot;eb23eb92-6a0c-4082-a77c-81b29acacd6c&quot;}]</td><td>null</td></tr><tr><td>&quot;https://d2iycf…</td><td>&quot;dog&quot;</td><td>null</td><td>[{&quot;bed&quot;,[269, 170, … 161],&quot;6374a576-dfe2-4bef-823e-28b6ff33a381&quot;}, {&quot;dog&quot;,[94, 27, … 305],&quot;73ac0a45-0893-4cee-b82d-82811950afa7&quot;}, {&quot;pillow&quot;,[389, 220, … 74],&quot;12f6356b-440f-4270-b99d-1b4632a2df52&quot;}]</td><td>[{0.8213984,null,null,&quot;blur&quot;,&quot;12f6356b-440f-4270-b99d-1b4632a2df52&quot;}]</td></tr><tr><td>&hellip;</td><td>&hellip;</td><td>&hellip;</td><td>&hellip;</td><td>&hellip;</td></tr><tr><td>&quot;https://d2iycf…</td><td>&quot;dog&quot;</td><td>null</td><td>[{&quot;dog&quot;,[19, 35, … 376],&quot;3be401e7-c95f-425f-b8c1-a145f8e5d331&quot;}]</td><td>null</td></tr><tr><td>&quot;https://d2iycf…</td><td>&quot;dog&quot;</td><td>null</td><td>[{&quot;dog&quot;,[133, 47, … 152],&quot;1c2fb644-64ff-433b-8738-0f8bdf1a2e06&quot;}]</td><td>null</td></tr><tr><td>&quot;https://d2iycf…</td><td>&quot;cat&quot;</td><td>null</td><td>[{&quot;cupboard&quot;,[20, 253, … 115],&quot;c33aa470-e4ca-4a2d-b31c-aa7c648ada2f&quot;}, {&quot;cupboard&quot;,[80, 317, … 52],&quot;51285b14-8815-480d-bbc7-9ce731d85029&quot;}]</td><td>null</td></tr><tr><td>&quot;https://d2iycf…</td><td>&quot;dog&quot;</td><td>null</td><td>[{&quot;dog&quot;,[33, 50, … 450],&quot;ce642b65-5325-41fb-abdd-bc779a652761&quot;}, {&quot;cupboard&quot;,[0, 1, … 251],&quot;96a28bff-6bd8-4144-af30-ebdfa7c52cf6&quot;}, {&quot;runner&quot;,[0, 412, … 88],&quot;f9371c67-5728-4d17-be9b-1e79b1cbc120&quot;}]</td><td>null</td></tr><tr><td>&quot;https://d2iycf…</td><td>&quot;dog&quot;</td><td>null</td><td>[{&quot;dog&quot;,[179, 65, … 278],&quot;d0ff33c6-d378-493c-81c9-ec559fba6889&quot;}]</td><td>null</td></tr><tr><td>&quot;https://d2iycf…</td><td>&quot;dog&quot;</td><td>null</td><td>[{&quot;basket&quot;,[227, 1, … 135],&quot;c0ff95b4-741e-4e85-a751-db7c3b9da41f&quot;}, {&quot;dog&quot;,[50, 1, … 448],&quot;9bd287da-9bd3-45d6-8d62-b7795c2110fd&quot;}]</td><td>null</td></tr><tr><td>&quot;https://d2iycf…</td><td>&quot;dog&quot;</td><td>null</td><td>[{&quot;dog&quot;,[77, 126, … 281],&quot;99a4c9bb-db77-4fbd-91b4-c1e6a3e3c900&quot;}]</td><td>null</td></tr><tr><td>&quot;https://d2iycf…</td><td>&quot;dog&quot;</td><td>null</td><td>[{&quot;cushion&quot;,[351, 266, … 109],&quot;8e2f9822-6680-4674-a049-2e9cdf72339b&quot;}, {&quot;cushion&quot;,[0, 250, … 125],&quot;ef97be2d-009f-4e5b-b10e-6d0567d04f9a&quot;}, … {&quot;dog&quot;,[0, 109, … 266],&quot;74d88ad2-e2c2-4570-9e3e-d36e8c364b7f&quot;}]</td><td>null</td></tr><tr><td>&quot;https://d2iycf…</td><td>&quot;dog&quot;</td><td>null</td><td>[{&quot;cat&quot;,[31, 60, … 417],&quot;f5a289bc-b6da-4979-bc82-7b1330b5d181&quot;}, {&quot;ball&quot;,[79, 290, … 72],&quot;852374b1-a01f-4b1c-b4f6-d74efe99caf8&quot;}]</td><td>null</td></tr><tr><td>&quot;https://d2iycf…</td><td>&quot;cat&quot;</td><td>null</td><td>[{&quot;tank top&quot;,[2, 1, … 234],&quot;447471d9-a40c-420b-a7b7-73f20d6b96cb&quot;}, {&quot;cat&quot;,[0, 78, … 249],&quot;de856ae1-2716-4673-9282-7e390588b8ed&quot;}, {&quot;person&quot;,[0, 254, … 78],&quot;e4e55234-67e8-4157-a741-90dcdb370566&quot;}]</td><td>null</td></tr><tr><td>&quot;https://d2iycf…</td><td>&quot;dog&quot;</td><td>null</td><td>[{&quot;dog&quot;,[3, 11, … 270],&quot;898f2f00-f2a7-452a-998c-a8e9962847ee&quot;}, {&quot;person&quot;,[1, 0, … 211],&quot;c15c2d79-98f4-482f-8c5a-2bb83a9c8816&quot;}]</td><td>null</td></tr><tr><td>&quot;https://d2iycf…</td><td>&quot;dog&quot;</td><td>null</td><td>[{&quot;dog&quot;,[15, 32, … 241],&quot;b81e2b1a-1990-46e0-8384-55ae838df09f&quot;}]</td><td>null</td></tr></tbody></table></div>"
      ],
      "text/plain": [
       "shape: (7_384, 5)\n",
       "┌────────────────────────┬─────────────┬─────────────────┬───────────────────────┬─────────────────┐\n",
       "│ image_uri              ┆ image_label ┆ image_issues    ┆ object_labels         ┆ object_issues   │\n",
       "│ ---                    ┆ ---         ┆ ---             ┆ ---                   ┆ ---             │\n",
       "│ str                    ┆ str         ┆ list[struct[4]] ┆ list[struct[3]]       ┆ list[struct[5]] │\n",
       "╞════════════════════════╪═════════════╪═════════════════╪═══════════════════════╪═════════════════╡\n",
       "│ https://d2iycffepdu1yp ┆ cat         ┆ null            ┆ [{\"cat\",[0, 16, …     ┆ null            │\n",
       "│ .cloudfron…            ┆             ┆                 ┆ 359],\"2fc62a2d…       ┆                 │\n",
       "│ https://d2iycffepdu1yp ┆ dog         ┆ null            ┆ [{\"dog\",[19, 16, …    ┆ null            │\n",
       "│ .cloudfron…            ┆             ┆                 ┆ 359],\"15951aa…        ┆                 │\n",
       "│ https://d2iycffepdu1yp ┆ dog         ┆ null            ┆ [{\"strap\",[133, 202,  ┆ null            │\n",
       "│ .cloudfron…            ┆             ┆                 ┆ … 167],\"36d…          ┆                 │\n",
       "│ https://d2iycffepdu1yp ┆ cat         ┆ null            ┆ [{\"dog\",[48, 43, …    ┆ null            │\n",
       "│ .cloudfron…            ┆             ┆                 ┆ 337],\"4ebd514…        ┆                 │\n",
       "│ …                      ┆ …           ┆ …               ┆ …                     ┆ …               │\n",
       "│ https://d2iycffepdu1yp ┆ dog         ┆ null            ┆ [{\"cat\",[31, 60, …    ┆ null            │\n",
       "│ .cloudfron…            ┆             ┆                 ┆ 417],\"f5a289b…        ┆                 │\n",
       "│ https://d2iycffepdu1yp ┆ cat         ┆ null            ┆ [{\"tank top\",[2, 1, … ┆ null            │\n",
       "│ .cloudfron…            ┆             ┆                 ┆ 234],\"4474…           ┆                 │\n",
       "│ https://d2iycffepdu1yp ┆ dog         ┆ null            ┆ [{\"dog\",[3, 11, …     ┆ null            │\n",
       "│ .cloudfron…            ┆             ┆                 ┆ 270],\"898f2f00…       ┆                 │\n",
       "│ https://d2iycffepdu1yp ┆ dog         ┆ null            ┆ [{\"dog\",[15, 32, …    ┆ null            │\n",
       "│ .cloudfron…            ┆             ┆                 ┆ 241],\"b81e2b1…        ┆                 │\n",
       "└────────────────────────┴─────────────┴─────────────────┴───────────────────────┴─────────────────┘"
      ]
     },
     "execution_count": 3,
     "metadata": {},
     "output_type": "execute_result"
    }
   ],
   "source": [
    "df = vl.get_dataset(\"fdd713c0-554c-11ef-bd7b-dacb63a3a95e\")\n",
    "df"
   ]
  },
  {
   "cell_type": "code",
   "execution_count": 4,
   "metadata": {},
   "outputs": [
    {
     "name": "stderr",
     "output_type": "stream",
     "text": [
      "\u001b[32m2024-08-14 16:15:38.869\u001b[0m | \u001b[1mINFO    \u001b[0m | \u001b[36mvlhf.visual_layer\u001b[0m:\u001b[36m_get_image_issues\u001b[0m:\u001b[36m203\u001b[0m - \u001b[1mRetrieved 248 images with image-level issues\u001b[0m\n"
     ]
    },
    {
     "data": {
      "text/html": [
       "<div>\n",
       "<style scoped>\n",
       "    .dataframe tbody tr th:only-of-type {\n",
       "        vertical-align: middle;\n",
       "    }\n",
       "\n",
       "    .dataframe tbody tr th {\n",
       "        vertical-align: top;\n",
       "    }\n",
       "\n",
       "    .dataframe thead th {\n",
       "        text-align: right;\n",
       "    }\n",
       "</style>\n",
       "<table border=\"1\" class=\"dataframe\">\n",
       "  <thead>\n",
       "    <tr style=\"text-align: right;\">\n",
       "      <th></th>\n",
       "      <th>image_id</th>\n",
       "      <th>image_issues</th>\n",
       "    </tr>\n",
       "  </thead>\n",
       "  <tbody>\n",
       "    <tr>\n",
       "      <th>0</th>\n",
       "      <td>a4b59632-bf5a-4735-854b-0d24b4ae1c9a</td>\n",
       "      <td>[{'confidence': 0.84083676, 'description': Non...</td>\n",
       "    </tr>\n",
       "    <tr>\n",
       "      <th>1</th>\n",
       "      <td>ab5e0329-95dc-4c71-9cde-7a26f7253c66</td>\n",
       "      <td>[{'confidence': 0.65313727, 'description': Non...</td>\n",
       "    </tr>\n",
       "    <tr>\n",
       "      <th>2</th>\n",
       "      <td>b15ef1fe-0a8c-46e5-9a6b-a4110bbf3344</td>\n",
       "      <td>[{'confidence': 0.923957, 'description': None,...</td>\n",
       "    </tr>\n",
       "    <tr>\n",
       "      <th>3</th>\n",
       "      <td>383b4905-4240-4d35-8e37-98d69ba64854</td>\n",
       "      <td>[{'confidence': 0.65867645, 'description': Non...</td>\n",
       "    </tr>\n",
       "    <tr>\n",
       "      <th>4</th>\n",
       "      <td>5c06eca4-ffd0-4671-9dc8-abd3bda5eb51</td>\n",
       "      <td>[{'confidence': 0.98, 'description': None, 'du...</td>\n",
       "    </tr>\n",
       "    <tr>\n",
       "      <th>...</th>\n",
       "      <td>...</td>\n",
       "      <td>...</td>\n",
       "    </tr>\n",
       "    <tr>\n",
       "      <th>243</th>\n",
       "      <td>dfb1ce8f-5bf4-4102-88ee-c17ce508d979</td>\n",
       "      <td>[{'confidence': 0.8036675, 'description': None...</td>\n",
       "    </tr>\n",
       "    <tr>\n",
       "      <th>244</th>\n",
       "      <td>b11e0ddb-2ea2-48f4-834d-a83ce7fadbb7</td>\n",
       "      <td>[{'confidence': 0.70338017, 'description': Non...</td>\n",
       "    </tr>\n",
       "    <tr>\n",
       "      <th>245</th>\n",
       "      <td>09fb24ca-1761-4ff6-b912-11933d10e6f5</td>\n",
       "      <td>[{'confidence': 0.98, 'description': None, 'du...</td>\n",
       "    </tr>\n",
       "    <tr>\n",
       "      <th>246</th>\n",
       "      <td>a22bad93-6ff7-4fc0-b26d-5057ae9e2d35</td>\n",
       "      <td>[{'confidence': 0.98, 'description': None, 'du...</td>\n",
       "    </tr>\n",
       "    <tr>\n",
       "      <th>247</th>\n",
       "      <td>56d3a2b7-821a-4900-a4d7-6b5a47fbcfb0</td>\n",
       "      <td>[{'confidence': 0.8858825, 'description': None...</td>\n",
       "    </tr>\n",
       "  </tbody>\n",
       "</table>\n",
       "<p>248 rows × 2 columns</p>\n",
       "</div>"
      ],
      "text/plain": [
       "                                 image_id  \\\n",
       "0    a4b59632-bf5a-4735-854b-0d24b4ae1c9a   \n",
       "1    ab5e0329-95dc-4c71-9cde-7a26f7253c66   \n",
       "2    b15ef1fe-0a8c-46e5-9a6b-a4110bbf3344   \n",
       "3    383b4905-4240-4d35-8e37-98d69ba64854   \n",
       "4    5c06eca4-ffd0-4671-9dc8-abd3bda5eb51   \n",
       "..                                    ...   \n",
       "243  dfb1ce8f-5bf4-4102-88ee-c17ce508d979   \n",
       "244  b11e0ddb-2ea2-48f4-834d-a83ce7fadbb7   \n",
       "245  09fb24ca-1761-4ff6-b912-11933d10e6f5   \n",
       "246  a22bad93-6ff7-4fc0-b26d-5057ae9e2d35   \n",
       "247  56d3a2b7-821a-4900-a4d7-6b5a47fbcfb0   \n",
       "\n",
       "                                          image_issues  \n",
       "0    [{'confidence': 0.84083676, 'description': Non...  \n",
       "1    [{'confidence': 0.65313727, 'description': Non...  \n",
       "2    [{'confidence': 0.923957, 'description': None,...  \n",
       "3    [{'confidence': 0.65867645, 'description': Non...  \n",
       "4    [{'confidence': 0.98, 'description': None, 'du...  \n",
       "..                                                 ...  \n",
       "243  [{'confidence': 0.8036675, 'description': None...  \n",
       "244  [{'confidence': 0.70338017, 'description': Non...  \n",
       "245  [{'confidence': 0.98, 'description': None, 'du...  \n",
       "246  [{'confidence': 0.98, 'description': None, 'du...  \n",
       "247  [{'confidence': 0.8858825, 'description': None...  \n",
       "\n",
       "[248 rows x 2 columns]"
      ]
     },
     "execution_count": 4,
     "metadata": {},
     "output_type": "execute_result"
    }
   ],
   "source": [
    "vl._get_image_issues().to_pandas()"
   ]
  },
  {
   "cell_type": "code",
   "execution_count": 5,
   "metadata": {},
   "outputs": [
    {
     "name": "stderr",
     "output_type": "stream",
     "text": [
      "\u001b[32m2024-08-14 16:15:45.794\u001b[0m | \u001b[1mINFO    \u001b[0m | \u001b[36mvlhf.visual_layer\u001b[0m:\u001b[36m_get_object_issues\u001b[0m:\u001b[36m231\u001b[0m - \u001b[1mRetrieved 672 images with object-level issues\u001b[0m\n"
     ]
    },
    {
     "data": {
      "text/html": [
       "<div>\n",
       "<style scoped>\n",
       "    .dataframe tbody tr th:only-of-type {\n",
       "        vertical-align: middle;\n",
       "    }\n",
       "\n",
       "    .dataframe tbody tr th {\n",
       "        vertical-align: top;\n",
       "    }\n",
       "\n",
       "    .dataframe thead th {\n",
       "        text-align: right;\n",
       "    }\n",
       "</style>\n",
       "<table border=\"1\" class=\"dataframe\">\n",
       "  <thead>\n",
       "    <tr style=\"text-align: right;\">\n",
       "      <th></th>\n",
       "      <th>image_id</th>\n",
       "      <th>object_issues</th>\n",
       "    </tr>\n",
       "  </thead>\n",
       "  <tbody>\n",
       "    <tr>\n",
       "      <th>0</th>\n",
       "      <td>935664b8-9e2b-42c0-8275-f67173a82446</td>\n",
       "      <td>[{'confidence': 0.887143, 'description': None,...</td>\n",
       "    </tr>\n",
       "    <tr>\n",
       "      <th>1</th>\n",
       "      <td>b1cd85a1-928b-43b6-acd6-09f2ebee3f0d</td>\n",
       "      <td>[{'confidence': 0.94871455, 'description': Non...</td>\n",
       "    </tr>\n",
       "    <tr>\n",
       "      <th>2</th>\n",
       "      <td>e6744e00-7043-4ccc-ba6b-6de6832447d8</td>\n",
       "      <td>[{'confidence': 0.8807345, 'description': None...</td>\n",
       "    </tr>\n",
       "    <tr>\n",
       "      <th>3</th>\n",
       "      <td>423d74dc-d32a-4452-a4f9-b7c598d24337</td>\n",
       "      <td>[{'confidence': 0.84736013, 'description': Non...</td>\n",
       "    </tr>\n",
       "    <tr>\n",
       "      <th>4</th>\n",
       "      <td>a905b6e1-21d9-40d2-b5a2-9164e1707545</td>\n",
       "      <td>[{'confidence': 0.9303767, 'description': None...</td>\n",
       "    </tr>\n",
       "    <tr>\n",
       "      <th>...</th>\n",
       "      <td>...</td>\n",
       "      <td>...</td>\n",
       "    </tr>\n",
       "    <tr>\n",
       "      <th>667</th>\n",
       "      <td>5724e081-9a06-40c1-bb18-38be7e833b9e</td>\n",
       "      <td>[{'confidence': 0.8098507, 'description': None...</td>\n",
       "    </tr>\n",
       "    <tr>\n",
       "      <th>668</th>\n",
       "      <td>1e9da675-1f34-4a72-8d4f-22187e749598</td>\n",
       "      <td>[{'confidence': 0.957392, 'description': None,...</td>\n",
       "    </tr>\n",
       "    <tr>\n",
       "      <th>669</th>\n",
       "      <td>5f22b3dd-87eb-4714-a7df-acdfa19f5667</td>\n",
       "      <td>[{'confidence': 0.84100544, 'description': Non...</td>\n",
       "    </tr>\n",
       "    <tr>\n",
       "      <th>670</th>\n",
       "      <td>323cf69a-a028-4149-966a-6cd004e110a6</td>\n",
       "      <td>[{'confidence': 0.8163215, 'description': None...</td>\n",
       "    </tr>\n",
       "    <tr>\n",
       "      <th>671</th>\n",
       "      <td>f3d299b3-7693-4afd-9ad2-e0878c46869f</td>\n",
       "      <td>[{'confidence': 0.8033593, 'description': None...</td>\n",
       "    </tr>\n",
       "  </tbody>\n",
       "</table>\n",
       "<p>672 rows × 2 columns</p>\n",
       "</div>"
      ],
      "text/plain": [
       "                                 image_id  \\\n",
       "0    935664b8-9e2b-42c0-8275-f67173a82446   \n",
       "1    b1cd85a1-928b-43b6-acd6-09f2ebee3f0d   \n",
       "2    e6744e00-7043-4ccc-ba6b-6de6832447d8   \n",
       "3    423d74dc-d32a-4452-a4f9-b7c598d24337   \n",
       "4    a905b6e1-21d9-40d2-b5a2-9164e1707545   \n",
       "..                                    ...   \n",
       "667  5724e081-9a06-40c1-bb18-38be7e833b9e   \n",
       "668  1e9da675-1f34-4a72-8d4f-22187e749598   \n",
       "669  5f22b3dd-87eb-4714-a7df-acdfa19f5667   \n",
       "670  323cf69a-a028-4149-966a-6cd004e110a6   \n",
       "671  f3d299b3-7693-4afd-9ad2-e0878c46869f   \n",
       "\n",
       "                                         object_issues  \n",
       "0    [{'confidence': 0.887143, 'description': None,...  \n",
       "1    [{'confidence': 0.94871455, 'description': Non...  \n",
       "2    [{'confidence': 0.8807345, 'description': None...  \n",
       "3    [{'confidence': 0.84736013, 'description': Non...  \n",
       "4    [{'confidence': 0.9303767, 'description': None...  \n",
       "..                                                 ...  \n",
       "667  [{'confidence': 0.8098507, 'description': None...  \n",
       "668  [{'confidence': 0.957392, 'description': None,...  \n",
       "669  [{'confidence': 0.84100544, 'description': Non...  \n",
       "670  [{'confidence': 0.8163215, 'description': None...  \n",
       "671  [{'confidence': 0.8033593, 'description': None...  \n",
       "\n",
       "[672 rows x 2 columns]"
      ]
     },
     "execution_count": 5,
     "metadata": {},
     "output_type": "execute_result"
    }
   ],
   "source": [
    "vl._get_object_issues().to_pandas()"
   ]
  },
  {
   "cell_type": "code",
   "execution_count": null,
   "metadata": {},
   "outputs": [],
   "source": []
  }
 ],
 "metadata": {
  "kernelspec": {
   "display_name": "vl-hf-workflow",
   "language": "python",
   "name": "python3"
  },
  "language_info": {
   "codemirror_mode": {
    "name": "ipython",
    "version": 3
   },
   "file_extension": ".py",
   "mimetype": "text/x-python",
   "name": "python",
   "nbconvert_exporter": "python",
   "pygments_lexer": "ipython3",
   "version": "3.11.9"
  }
 },
 "nbformat": 4,
 "nbformat_minor": 2
}
